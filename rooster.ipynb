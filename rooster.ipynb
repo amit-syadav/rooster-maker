{
 "cells": [
  {
   "cell_type": "code",
   "execution_count": 118,
   "metadata": {},
   "outputs": [],
   "source": [
    "import pandas as pd\n",
    "\n",
    "days = ['Monday', 'Tuesday', 'Wednesday', 'Thursday', 'Friday','Saturday', 'Sunday']\n",
    "\n",
    "employees = ['sp yadav', 'sp sharma', 'ashok meena','up tyagi', 'rajendra prasad', 'pramod kumar', 'amit kumar', 'meghnath', 'dayanand', 'yogesh kulkarni', 'gm kulkarni','jagnandan', 'rs meena']\n",
    "\n",
    "duty = ['day', 'inter','night']"
   ]
  },
  {
   "cell_type": "code",
   "execution_count": 119,
   "metadata": {},
   "outputs": [],
   "source": [
    "data = [[\"\"] * len(employees) for _ in range(len(days))]\n",
    "\n",
    "df = pd.DataFrame(data, index=days, columns=employees)\n",
    "\n",
    "duty_i = 0\n",
    "\n",
    "r = 0\n",
    "c = 0"
   ]
  },
  {
   "cell_type": "code",
   "execution_count": 120,
   "metadata": {},
   "outputs": [],
   "source": [
    "forced_exlusions = {'pramod kumar': ['Monday', 'Tuesday', 'Wednesday', 'Thursday', 'Friday','Saturday', 'Sunday'],\n",
    "                   'gm kulkarni':  [ 'Thursday', 'Friday'] ,\n",
    "                   'rajendra prasad':  [ 'Monday']}\n",
    "\n",
    "# forced inclusions\n",
    "\n",
    "forced_inclusions = {'Saturday':[{   'yogesh kulkarni': 'inter'   }, {'ashok meena':'night'}],\n",
    "'Sunday':   [{'gm kulkarni':'night'}] ,\n",
    "'Friday':   [{'ashok meena':'inter'}] \n",
    "}"
   ]
  },
  {
   "cell_type": "code",
   "execution_count": 121,
   "metadata": {},
   "outputs": [
    {
     "name": "stdout",
     "output_type": "stream",
     "text": [
      "sp yadav Monday\n",
      "sp sharma Monday\n",
      "ashok meena Monday\n",
      "up tyagi Tuesday\n",
      "rajendra prasad Tuesday\n",
      "pramod kumar Tuesday\n",
      "exclusion found\n",
      "amit kumar Tuesday\n",
      "meghnath Wednesday\n",
      "dayanand Wednesday\n",
      "yogesh kulkarni Wednesday\n",
      "gm kulkarni Thursday\n",
      "exclusion found\n",
      "jagnandan Thursday\n",
      "rs meena Thursday\n",
      "sp yadav Thursday\n",
      "sp sharma Friday\n",
      "ashok meena Friday\n",
      "up tyagi Friday\n",
      "rajendra prasad Saturday\n",
      "pramod kumar Saturday\n",
      "exclusion found\n",
      "amit kumar Saturday\n",
      "meghnath Saturday\n",
      "dayanand Sunday\n",
      "yogesh kulkarni Sunday\n",
      "gm kulkarni Sunday\n"
     ]
    }
   ],
   "source": [
    "\n",
    "\n",
    "while r< df.shape[0]:\n",
    "\n",
    "    \n",
    "    # satisfy all forced inclusions for this day\n",
    "    inclusion_emp = []\n",
    "    inclusion_duty = []\n",
    " \n",
    "\n",
    "    if df.index[r] in forced_inclusions:\n",
    "        for duty_requested in forced_inclusions.get(df.index[r]):\n",
    "            for emp in duty_requested:\n",
    "                df.at[df.index[r], emp] = duty_requested[emp]\n",
    "                inclusion_emp.append(emp)\n",
    "                inclusion_duty.append(duty_requested[emp])\n",
    "\n",
    "    print (df.columns[c%df.shape[1]],  df.index[r])\n",
    "    \n",
    "    \n",
    "    # check if exclusion exists for the emp\n",
    "    if df.columns[c%df.shape[1]] in forced_exlusions  and df.index[r] in forced_exlusions[df.columns[c%df.shape[1]]] :\n",
    "        print('exclusion found')\n",
    "        pass\n",
    "\n",
    "    elif duty[duty_i]   in inclusion_duty:\n",
    "        duty_i +=1\n",
    "\n",
    "    elif df.columns[c%df.shape[1]]   in inclusion_emp:\n",
    "        pass\n",
    "\n",
    "    else:  #already assigend as forced inclusion\n",
    "        df.iloc[r,c%df.shape[1] ] = duty[duty_i]\n",
    "        duty_i +=1 \n",
    "\n",
    "    c += 1\n",
    "\n",
    "    if duty_i == 3: #all duties allocated for the given day\n",
    "        duty_i = 0\n",
    "        # print(df.iloc[r])\n",
    "        r += 1"
   ]
  },
  {
   "cell_type": "code",
   "execution_count": 122,
   "metadata": {},
   "outputs": [
    {
     "name": "stdout",
     "output_type": "stream",
     "text": [
      "          sp yadav sp sharma ashok meena up tyagi rajendra prasad  \\\n",
      "Monday         day     inter       night                            \n",
      "Tuesday                                       day           inter   \n",
      "Wednesday                                                           \n",
      "Thursday     night                                                  \n",
      "Friday                   day       inter    night                   \n",
      "Saturday                           night                      day   \n",
      "Sunday                                                              \n",
      "\n",
      "          pramod kumar amit kumar meghnath dayanand yogesh kulkarni  \\\n",
      "Monday                                                                \n",
      "Tuesday                     night                                     \n",
      "Wednesday                              day    inter           night   \n",
      "Thursday                                                              \n",
      "Friday                                                                \n",
      "Saturday                                                      inter   \n",
      "Sunday                                          day           inter   \n",
      "\n",
      "          gm kulkarni jagnandan rs meena  \n",
      "Monday                                    \n",
      "Tuesday                                   \n",
      "Wednesday                                 \n",
      "Thursday                    day    inter  \n",
      "Friday                                    \n",
      "Saturday                                  \n",
      "Sunday          night                     \n"
     ]
    }
   ],
   "source": [
    "print(df)"
   ]
  }
 ],
 "metadata": {
  "kernelspec": {
   "display_name": "Python 3",
   "language": "python",
   "name": "python3"
  },
  "language_info": {
   "codemirror_mode": {
    "name": "ipython",
    "version": 3
   },
   "file_extension": ".py",
   "mimetype": "text/x-python",
   "name": "python",
   "nbconvert_exporter": "python",
   "pygments_lexer": "ipython3",
   "version": "3.10.2"
  }
 },
 "nbformat": 4,
 "nbformat_minor": 2
}
